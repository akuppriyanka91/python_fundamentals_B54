{
 "cells": [
  {
   "cell_type": "code",
   "execution_count": null,
   "id": "85a39d3d",
   "metadata": {},
   "outputs": [],
   "source": [
    "# Organising LIST data types\n",
    "Temparary----> sorted\n",
    "Permanent---> sort"
   ]
  },
  {
   "cell_type": "code",
   "execution_count": 1,
   "id": "2a68579c",
   "metadata": {},
   "outputs": [],
   "source": [
    "cars=['swift','toyota','bmw','audi','benz','ciaz']"
   ]
  },
  {
   "cell_type": "code",
   "execution_count": 2,
   "id": "2f07474c",
   "metadata": {},
   "outputs": [
    {
     "name": "stdout",
     "output_type": "stream",
     "text": [
      "['swift', 'toyota', 'bmw', 'audi', 'benz', 'ciaz']\n"
     ]
    }
   ],
   "source": [
    "print(cars)"
   ]
  },
  {
   "cell_type": "code",
   "execution_count": null,
   "id": "b77a0dc4",
   "metadata": {},
   "outputs": [],
   "source": [
    "#above normal o/p"
   ]
  },
  {
   "cell_type": "code",
   "execution_count": 7,
   "id": "9b58ed8f",
   "metadata": {},
   "outputs": [
    {
     "name": "stdout",
     "output_type": "stream",
     "text": [
      "['audi', 'benz', 'bmw', 'ciaz', 'swift', 'toyota']\n"
     ]
    }
   ],
   "source": [
    "print(cars)"
   ]
  },
  {
   "cell_type": "code",
   "execution_count": 3,
   "id": "71f23366",
   "metadata": {},
   "outputs": [
    {
     "data": {
      "text/plain": [
       "['audi', 'benz', 'bmw', 'ciaz', 'swift', 'toyota']"
      ]
     },
     "execution_count": 3,
     "metadata": {},
     "output_type": "execute_result"
    }
   ],
   "source": [
    "sorted(cars)"
   ]
  },
  {
   "cell_type": "code",
   "execution_count": null,
   "id": "ede5fb62",
   "metadata": {},
   "outputs": [],
   "source": [
    "# above o/p is in alphabed order and it's temparary list"
   ]
  },
  {
   "cell_type": "code",
   "execution_count": 6,
   "id": "98dc7ac0",
   "metadata": {},
   "outputs": [
    {
     "name": "stdout",
     "output_type": "stream",
     "text": [
      "['audi', 'benz', 'bmw', 'ciaz', 'swift', 'toyota']\n"
     ]
    }
   ],
   "source": [
    "print(cars)"
   ]
  },
  {
   "cell_type": "code",
   "execution_count": 4,
   "id": "221bc1b4",
   "metadata": {},
   "outputs": [],
   "source": [
    "cars.sort()"
   ]
  },
  {
   "cell_type": "code",
   "execution_count": 5,
   "id": "bfee8cfa",
   "metadata": {},
   "outputs": [
    {
     "name": "stdout",
     "output_type": "stream",
     "text": [
      "['audi', 'benz', 'bmw', 'ciaz', 'swift', 'toyota']\n"
     ]
    }
   ],
   "source": [
    "print(cars)"
   ]
  },
  {
   "cell_type": "code",
   "execution_count": null,
   "id": "d5d88366",
   "metadata": {},
   "outputs": [],
   "source": [
    "# above order you cann't cahange because it's permanent list"
   ]
  },
  {
   "cell_type": "code",
   "execution_count": null,
   "id": "c44f6153",
   "metadata": {},
   "outputs": [],
   "source": [
    "# reverse order list"
   ]
  },
  {
   "cell_type": "code",
   "execution_count": 9,
   "id": "88cda8d3",
   "metadata": {},
   "outputs": [],
   "source": [
    "cars.reverse()"
   ]
  },
  {
   "cell_type": "code",
   "execution_count": 10,
   "id": "0b0ca0b7",
   "metadata": {},
   "outputs": [
    {
     "name": "stdout",
     "output_type": "stream",
     "text": [
      "['toyota', 'swift', 'ciaz', 'bmw', 'benz', 'audi']\n"
     ]
    }
   ],
   "source": [
    "print(cars)"
   ]
  },
  {
   "cell_type": "code",
   "execution_count": null,
   "id": "abd14262",
   "metadata": {},
   "outputs": [],
   "source": [
    "# above o/p is in reverse order"
   ]
  },
  {
   "cell_type": "code",
   "execution_count": null,
   "id": "56ff9de0",
   "metadata": {},
   "outputs": [],
   "source": [
    "#to count howmany elements are there in list"
   ]
  },
  {
   "cell_type": "code",
   "execution_count": 11,
   "id": "f3fe137e",
   "metadata": {},
   "outputs": [
    {
     "data": {
      "text/plain": [
       "6"
      ]
     },
     "execution_count": 11,
     "metadata": {},
     "output_type": "execute_result"
    }
   ],
   "source": [
    "len(cars)"
   ]
  },
  {
   "cell_type": "code",
   "execution_count": null,
   "id": "ee9094c7",
   "metadata": {},
   "outputs": [],
   "source": []
  },
  {
   "cell_type": "code",
   "execution_count": 12,
   "id": "4025489c",
   "metadata": {},
   "outputs": [],
   "source": [
    "students=['ram','raj','kiran','ajay']"
   ]
  },
  {
   "cell_type": "code",
   "execution_count": 13,
   "id": "ea715309",
   "metadata": {},
   "outputs": [
    {
     "name": "stdout",
     "output_type": "stream",
     "text": [
      "['ram', 'raj', 'kiran', 'ajay']\n"
     ]
    }
   ],
   "source": [
    "print(students)"
   ]
  },
  {
   "cell_type": "code",
   "execution_count": 15,
   "id": "0548b06e",
   "metadata": {},
   "outputs": [
    {
     "data": {
      "text/plain": [
       "['ajay', 'kiran', 'raj', 'ram']"
      ]
     },
     "execution_count": 15,
     "metadata": {},
     "output_type": "execute_result"
    }
   ],
   "source": [
    "sorted(students)"
   ]
  },
  {
   "cell_type": "code",
   "execution_count": 18,
   "id": "f62c61ab",
   "metadata": {},
   "outputs": [],
   "source": [
    "students.append('bob')"
   ]
  },
  {
   "cell_type": "code",
   "execution_count": 19,
   "id": "a00d5a1c",
   "metadata": {},
   "outputs": [
    {
     "name": "stdout",
     "output_type": "stream",
     "text": [
      "['ram', 'raj', 'kiran', 'ajay', 'bob']\n"
     ]
    }
   ],
   "source": [
    "print(students)"
   ]
  },
  {
   "cell_type": "code",
   "execution_count": 21,
   "id": "24909802",
   "metadata": {},
   "outputs": [
    {
     "name": "stdout",
     "output_type": "stream",
     "text": [
      "ajay\n"
     ]
    }
   ],
   "source": [
    "print(students[3])"
   ]
  },
  {
   "cell_type": "code",
   "execution_count": 22,
   "id": "7be76436",
   "metadata": {},
   "outputs": [],
   "source": [
    "students[4]='bobs'"
   ]
  },
  {
   "cell_type": "code",
   "execution_count": 23,
   "id": "64ba1e28",
   "metadata": {},
   "outputs": [
    {
     "name": "stdout",
     "output_type": "stream",
     "text": [
      "['ram', 'raj', 'kiran', 'ajay', 'bobs']\n"
     ]
    }
   ],
   "source": [
    "print(students)"
   ]
  },
  {
   "cell_type": "code",
   "execution_count": 24,
   "id": "64794a80",
   "metadata": {},
   "outputs": [],
   "source": [
    "students.insert(2,'bobs')"
   ]
  },
  {
   "cell_type": "code",
   "execution_count": 25,
   "id": "31c99b2f",
   "metadata": {},
   "outputs": [
    {
     "name": "stdout",
     "output_type": "stream",
     "text": [
      "['ram', 'raj', 'bobs', 'kiran', 'ajay', 'bobs']\n"
     ]
    }
   ],
   "source": [
    "print(students)"
   ]
  },
  {
   "cell_type": "code",
   "execution_count": 26,
   "id": "aaff458b",
   "metadata": {},
   "outputs": [],
   "source": [
    "del students[5]"
   ]
  },
  {
   "cell_type": "code",
   "execution_count": 27,
   "id": "6cb08143",
   "metadata": {},
   "outputs": [
    {
     "name": "stdout",
     "output_type": "stream",
     "text": [
      "['ram', 'raj', 'bobs', 'kiran', 'ajay']\n"
     ]
    }
   ],
   "source": [
    "print(students)"
   ]
  },
  {
   "cell_type": "code",
   "execution_count": 28,
   "id": "f669f1eb",
   "metadata": {},
   "outputs": [
    {
     "data": {
      "text/plain": [
       "5"
      ]
     },
     "execution_count": 28,
     "metadata": {},
     "output_type": "execute_result"
    }
   ],
   "source": [
    "len(students)"
   ]
  },
  {
   "cell_type": "code",
   "execution_count": 30,
   "id": "5aa61d15",
   "metadata": {},
   "outputs": [
    {
     "data": {
      "text/plain": [
       "['ajay', 'bobs', 'kiran', 'raj', 'ram']"
      ]
     },
     "execution_count": 30,
     "metadata": {},
     "output_type": "execute_result"
    }
   ],
   "source": [
    "sorted(students)"
   ]
  },
  {
   "cell_type": "code",
   "execution_count": 32,
   "id": "4b283b06",
   "metadata": {},
   "outputs": [],
   "source": [
    "students.sort() #permanent"
   ]
  },
  {
   "cell_type": "code",
   "execution_count": 33,
   "id": "289e695f",
   "metadata": {},
   "outputs": [
    {
     "name": "stdout",
     "output_type": "stream",
     "text": [
      "['ajay', 'bobs', 'kiran', 'raj', 'ram']\n"
     ]
    }
   ],
   "source": [
    "print(students)"
   ]
  },
  {
   "cell_type": "code",
   "execution_count": 34,
   "id": "4ac4a86f",
   "metadata": {},
   "outputs": [
    {
     "data": {
      "text/plain": [
       "['ajay', 'bobs', 'kiran', 'raj', 'ram']"
      ]
     },
     "execution_count": 34,
     "metadata": {},
     "output_type": "execute_result"
    }
   ],
   "source": [
    "sorted(students) #temparary but you can't chage now. Because above you already gave sort(permanent)"
   ]
  },
  {
   "cell_type": "code",
   "execution_count": 36,
   "id": "22e0c0c8",
   "metadata": {},
   "outputs": [],
   "source": [
    "students.reverse()"
   ]
  },
  {
   "cell_type": "code",
   "execution_count": 37,
   "id": "4d3f6f02",
   "metadata": {},
   "outputs": [
    {
     "name": "stdout",
     "output_type": "stream",
     "text": [
      "['ram', 'raj', 'kiran', 'bobs', 'ajay']\n"
     ]
    }
   ],
   "source": [
    "print(students)"
   ]
  },
  {
   "cell_type": "code",
   "execution_count": 38,
   "id": "05e728d0",
   "metadata": {},
   "outputs": [],
   "source": [
    "students.reverse()"
   ]
  },
  {
   "cell_type": "code",
   "execution_count": 39,
   "id": "1778d09d",
   "metadata": {},
   "outputs": [
    {
     "name": "stdout",
     "output_type": "stream",
     "text": [
      "['ajay', 'bobs', 'kiran', 'raj', 'ram']\n"
     ]
    }
   ],
   "source": [
    "print(students)"
   ]
  },
  {
   "cell_type": "code",
   "execution_count": 40,
   "id": "57cd4691",
   "metadata": {},
   "outputs": [
    {
     "data": {
      "text/plain": [
       "5"
      ]
     },
     "execution_count": 40,
     "metadata": {},
     "output_type": "execute_result"
    }
   ],
   "source": [
    "len(students)"
   ]
  },
  {
   "cell_type": "code",
   "execution_count": null,
   "id": "aafba8f8",
   "metadata": {},
   "outputs": [],
   "source": []
  }
 ],
 "metadata": {
  "kernelspec": {
   "display_name": "Python 3",
   "language": "python",
   "name": "python3"
  },
  "language_info": {
   "codemirror_mode": {
    "name": "ipython",
    "version": 3
   },
   "file_extension": ".py",
   "mimetype": "text/x-python",
   "name": "python",
   "nbconvert_exporter": "python",
   "pygments_lexer": "ipython3",
   "version": "3.8.8"
  }
 },
 "nbformat": 4,
 "nbformat_minor": 5
}
