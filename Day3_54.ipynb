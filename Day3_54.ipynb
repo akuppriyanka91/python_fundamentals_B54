{
 "cells": [
  {
   "cell_type": "code",
   "execution_count": null,
   "id": "8ba3def4",
   "metadata": {},
   "outputs": [],
   "source": [
    "Strings"
   ]
  },
  {
   "cell_type": "code",
   "execution_count": 2,
   "id": "2cf8ee3a",
   "metadata": {},
   "outputs": [],
   "source": [
    "full_name='Raj'"
   ]
  },
  {
   "cell_type": "code",
   "execution_count": 3,
   "id": "58525b5f",
   "metadata": {},
   "outputs": [
    {
     "name": "stdout",
     "output_type": "stream",
     "text": [
      "Raj\n"
     ]
    }
   ],
   "source": [
    "print(full_name)"
   ]
  },
  {
   "cell_type": "code",
   "execution_count": 4,
   "id": "c1f03182",
   "metadata": {},
   "outputs": [],
   "source": [
    "full_name=\"Raj Reddy\""
   ]
  },
  {
   "cell_type": "code",
   "execution_count": 6,
   "id": "95c734b1",
   "metadata": {},
   "outputs": [
    {
     "name": "stdout",
     "output_type": "stream",
     "text": [
      "Raj Reddy\n"
     ]
    }
   ],
   "source": [
    "print(full_name)"
   ]
  },
  {
   "cell_type": "code",
   "execution_count": 7,
   "id": "9078b8c6",
   "metadata": {},
   "outputs": [
    {
     "data": {
      "text/plain": [
       "str"
      ]
     },
     "execution_count": 7,
     "metadata": {},
     "output_type": "execute_result"
    }
   ],
   "source": [
    "type(full_name)"
   ]
  },
  {
   "cell_type": "code",
   "execution_count": 9,
   "id": "da302892",
   "metadata": {},
   "outputs": [
    {
     "name": "stdout",
     "output_type": "stream",
     "text": [
      "Raj Reddy\n"
     ]
    }
   ],
   "source": [
    "print(full_name.title())"
   ]
  },
  {
   "cell_type": "code",
   "execution_count": null,
   "id": "ff9015ba",
   "metadata": {},
   "outputs": [],
   "source": [
    "#printing the string in upper case"
   ]
  },
  {
   "cell_type": "code",
   "execution_count": 10,
   "id": "55ddaefd",
   "metadata": {},
   "outputs": [
    {
     "name": "stdout",
     "output_type": "stream",
     "text": [
      "RAJ REDDY\n"
     ]
    }
   ],
   "source": [
    "print(full_name.upper())"
   ]
  },
  {
   "cell_type": "code",
   "execution_count": 11,
   "id": "82a8e182",
   "metadata": {},
   "outputs": [
    {
     "name": "stdout",
     "output_type": "stream",
     "text": [
      "raj reddy\n"
     ]
    }
   ],
   "source": [
    "#print string in lower case\n",
    "print(full_name.lower())"
   ]
  },
  {
   "cell_type": "code",
   "execution_count": 13,
   "id": "9c8b6873",
   "metadata": {},
   "outputs": [
    {
     "name": "stdout",
     "output_type": "stream",
     "text": [
      "Raj Reddy\n"
     ]
    }
   ],
   "source": [
    "print(full_name)"
   ]
  },
  {
   "cell_type": "code",
   "execution_count": 16,
   "id": "ef289cef",
   "metadata": {},
   "outputs": [
    {
     "name": "stdout",
     "output_type": "stream",
     "text": [
      "Raj Reddy\n"
     ]
    }
   ],
   "source": [
    "first_name=\"Raj\"\n",
    "last_name=\"Reddy\"\n",
    "print(full_name)"
   ]
  },
  {
   "cell_type": "code",
   "execution_count": 21,
   "id": "b68e3ff0",
   "metadata": {},
   "outputs": [
    {
     "name": "stdout",
     "output_type": "stream",
     "text": [
      "{FIRST_NAME}\n"
     ]
    }
   ],
   "source": [
    "print(\"{first_name}\".upper())"
   ]
  },
  {
   "cell_type": "code",
   "execution_count": 23,
   "id": "d8214aa0",
   "metadata": {},
   "outputs": [
    {
     "name": "stdout",
     "output_type": "stream",
     "text": [
      "RAJ\n"
     ]
    }
   ],
   "source": [
    "print((first_name).upper())"
   ]
  },
  {
   "cell_type": "code",
   "execution_count": 24,
   "id": "bcc02070",
   "metadata": {},
   "outputs": [
    {
     "name": "stdout",
     "output_type": "stream",
     "text": [
      "reddy\n"
     ]
    }
   ],
   "source": [
    "print((last_name).lower())"
   ]
  },
  {
   "cell_type": "code",
   "execution_count": 26,
   "id": "c5577b52",
   "metadata": {},
   "outputs": [
    {
     "name": "stdout",
     "output_type": "stream",
     "text": [
      "Raj Reddy\n"
     ]
    }
   ],
   "source": [
    "full_name=f\"{first_name} {last_name}\"\n",
    "print(full_name)"
   ]
  },
  {
   "cell_type": "code",
   "execution_count": 27,
   "id": "e4142de9",
   "metadata": {},
   "outputs": [
    {
     "name": "stdout",
     "output_type": "stream",
     "text": [
      "RAJ REDDY\n"
     ]
    }
   ],
   "source": [
    "print(full_name.upper())"
   ]
  },
  {
   "cell_type": "code",
   "execution_count": 28,
   "id": "669ee3a2",
   "metadata": {},
   "outputs": [
    {
     "name": "stdout",
     "output_type": "stream",
     "text": [
      "Raj Reddy\n"
     ]
    }
   ],
   "source": [
    "print(full_name.title())"
   ]
  },
  {
   "cell_type": "code",
   "execution_count": 29,
   "id": "727b994f",
   "metadata": {},
   "outputs": [
    {
     "data": {
      "text/plain": [
       "str"
      ]
     },
     "execution_count": 29,
     "metadata": {},
     "output_type": "execute_result"
    }
   ],
   "source": [
    "type(full_name.upper())"
   ]
  },
  {
   "cell_type": "code",
   "execution_count": 32,
   "id": "fe2d7cbb",
   "metadata": {},
   "outputs": [
    {
     "name": "stdout",
     "output_type": "stream",
     "text": [
      "fav_prog_language:cc++javapythonsql\n"
     ]
    }
   ],
   "source": [
    "# Adding white spaces  \n",
    "\n",
    "print(\"fav_prog_language:cc++javapythonsql\")"
   ]
  },
  {
   "cell_type": "code",
   "execution_count": 34,
   "id": "497d6df6",
   "metadata": {},
   "outputs": [
    {
     "name": "stdout",
     "output_type": "stream",
     "text": [
      "fav_prog_language:\n",
      "c\n",
      "c++\n",
      "java\n",
      "sql\n"
     ]
    }
   ],
   "source": [
    "print(\"fav_prog_language:\\nc\\nc++\\njava\\nsql\")"
   ]
  },
  {
   "cell_type": "code",
   "execution_count": 35,
   "id": "9ba9e3e4",
   "metadata": {},
   "outputs": [
    {
     "name": "stdout",
     "output_type": "stream",
     "text": [
      "fav_prog_language:\tc\tc++\n"
     ]
    }
   ],
   "source": [
    "print(\"fav_prog_language:\\tc\\tc++\") # \\t is tab space"
   ]
  },
  {
   "cell_type": "code",
   "execution_count": 36,
   "id": "ce65160a",
   "metadata": {},
   "outputs": [
    {
     "name": "stdout",
     "output_type": "stream",
     "text": [
      "fav_game:\n",
      "football\tbaseball\n"
     ]
    }
   ],
   "source": [
    "print(\"fav_game:\\nfootball\\tbaseball\")"
   ]
  },
  {
   "cell_type": "code",
   "execution_count": 37,
   "id": "d6493b3f",
   "metadata": {},
   "outputs": [
    {
     "name": "stdout",
     "output_type": "stream",
     "text": [
      "last_names:\t s\t g\n"
     ]
    }
   ],
   "source": [
    "print(\"last_names:\\t s\\t g\")"
   ]
  },
  {
   "cell_type": "code",
   "execution_count": 38,
   "id": "f216a4c2",
   "metadata": {},
   "outputs": [
    {
     "name": "stdout",
     "output_type": "stream",
     "text": [
      "last_names: s t\n"
     ]
    }
   ],
   "source": [
    "print(\"last_names: s t\")"
   ]
  },
  {
   "cell_type": "code",
   "execution_count": 39,
   "id": "c2d95d56",
   "metadata": {},
   "outputs": [],
   "source": [
    "#Removing white spaces\n",
    "name=\"  r\""
   ]
  },
  {
   "cell_type": "code",
   "execution_count": 40,
   "id": "d8dff003",
   "metadata": {},
   "outputs": [
    {
     "name": "stdout",
     "output_type": "stream",
     "text": [
      "  r\n"
     ]
    }
   ],
   "source": [
    "print(name)"
   ]
  },
  {
   "cell_type": "code",
   "execution_count": 42,
   "id": "8315b03b",
   "metadata": {},
   "outputs": [
    {
     "name": "stdout",
     "output_type": "stream",
     "text": [
      "name.lstripe\n"
     ]
    }
   ],
   "source": [
    "print(\"name.lstripe\")"
   ]
  },
  {
   "cell_type": "code",
   "execution_count": 44,
   "id": "cf475655",
   "metadata": {},
   "outputs": [],
   "source": [
    "language1='  java'"
   ]
  },
  {
   "cell_type": "code",
   "execution_count": 45,
   "id": "f0832038",
   "metadata": {},
   "outputs": [
    {
     "data": {
      "text/plain": [
       "'java'"
      ]
     },
     "execution_count": 45,
     "metadata": {},
     "output_type": "execute_result"
    }
   ],
   "source": [
    "language1.lstrip() #above java has 2 left spaces"
   ]
  },
  {
   "cell_type": "code",
   "execution_count": 47,
   "id": "2a93d518",
   "metadata": {},
   "outputs": [
    {
     "data": {
      "text/plain": [
       "'p'"
      ]
     },
     "execution_count": 47,
     "metadata": {},
     "output_type": "execute_result"
    }
   ],
   "source": [
    "name1=\"   p\"\n",
    "name1.lstrip()"
   ]
  },
  {
   "cell_type": "code",
   "execution_count": 48,
   "id": "c02c61c8",
   "metadata": {},
   "outputs": [
    {
     "data": {
      "text/plain": [
       "'r'"
      ]
     },
     "execution_count": 48,
     "metadata": {},
     "output_type": "execute_result"
    }
   ],
   "source": [
    "name.lstrip()"
   ]
  },
  {
   "cell_type": "code",
   "execution_count": 49,
   "id": "ca8eb25c",
   "metadata": {},
   "outputs": [],
   "source": [
    "name2=\"j   \""
   ]
  },
  {
   "cell_type": "code",
   "execution_count": 51,
   "id": "3f1db7b8",
   "metadata": {},
   "outputs": [
    {
     "data": {
      "text/plain": [
       "'j'"
      ]
     },
     "execution_count": 51,
     "metadata": {},
     "output_type": "execute_result"
    }
   ],
   "source": [
    "name2.rstrip()#right space"
   ]
  },
  {
   "cell_type": "code",
   "execution_count": null,
   "id": "765d5dc2",
   "metadata": {},
   "outputs": [],
   "source": []
  }
 ],
 "metadata": {
  "kernelspec": {
   "display_name": "Python 3",
   "language": "python",
   "name": "python3"
  },
  "language_info": {
   "codemirror_mode": {
    "name": "ipython",
    "version": 3
   },
   "file_extension": ".py",
   "mimetype": "text/x-python",
   "name": "python",
   "nbconvert_exporter": "python",
   "pygments_lexer": "ipython3",
   "version": "3.8.8"
  }
 },
 "nbformat": 4,
 "nbformat_minor": 5
}
