{
 "cells": [
  {
   "cell_type": "code",
   "execution_count": 1,
   "id": "64d5533e",
   "metadata": {},
   "outputs": [],
   "source": [
    "students=[\"raj\",\"meena\",\"veena\",\"jina\"]"
   ]
  },
  {
   "cell_type": "code",
   "execution_count": 2,
   "id": "26d966d6",
   "metadata": {},
   "outputs": [
    {
     "name": "stdout",
     "output_type": "stream",
     "text": [
      "['raj', 'meena', 'veena', 'jina']\n"
     ]
    }
   ],
   "source": [
    "print(students)"
   ]
  },
  {
   "cell_type": "code",
   "execution_count": null,
   "id": "7c0cf141",
   "metadata": {},
   "outputs": [],
   "source": [
    "#indexing (0,1,2,3,....)"
   ]
  },
  {
   "cell_type": "code",
   "execution_count": 3,
   "id": "f925d28f",
   "metadata": {},
   "outputs": [
    {
     "name": "stdout",
     "output_type": "stream",
     "text": [
      "meena\n"
     ]
    }
   ],
   "source": [
    "print(students[1])"
   ]
  },
  {
   "cell_type": "code",
   "execution_count": 5,
   "id": "07772ac1",
   "metadata": {},
   "outputs": [
    {
     "ename": "IndexError",
     "evalue": "list index out of range",
     "output_type": "error",
     "traceback": [
      "\u001b[1;31m---------------------------------------------------------------------------\u001b[0m",
      "\u001b[1;31mIndexError\u001b[0m                                Traceback (most recent call last)",
      "\u001b[1;32m<ipython-input-5-8d99993329ba>\u001b[0m in \u001b[0;36m<module>\u001b[1;34m\u001b[0m\n\u001b[1;32m----> 1\u001b[1;33m \u001b[0mprint\u001b[0m\u001b[1;33m(\u001b[0m\u001b[0mstudents\u001b[0m\u001b[1;33m[\u001b[0m\u001b[1;36m4\u001b[0m\u001b[1;33m]\u001b[0m\u001b[1;33m)\u001b[0m\u001b[1;33m\u001b[0m\u001b[1;33m\u001b[0m\u001b[0m\n\u001b[0m",
      "\u001b[1;31mIndexError\u001b[0m: list index out of range"
     ]
    }
   ],
   "source": [
    "print(students[4])"
   ]
  },
  {
   "cell_type": "code",
   "execution_count": null,
   "id": "2e735497",
   "metadata": {},
   "outputs": [],
   "source": [
    "above error is showing there are no no. 4"
   ]
  },
  {
   "cell_type": "code",
   "execution_count": null,
   "id": "ee728328",
   "metadata": {},
   "outputs": [],
   "source": [
    "#adding to list {sny: student.append} it adds in at end of the statement/list"
   ]
  },
  {
   "cell_type": "code",
   "execution_count": 9,
   "id": "5842cc9d",
   "metadata": {},
   "outputs": [],
   "source": [
    "students.append ('max')"
   ]
  },
  {
   "cell_type": "code",
   "execution_count": 10,
   "id": "c16d9245",
   "metadata": {},
   "outputs": [
    {
     "name": "stdout",
     "output_type": "stream",
     "text": [
      "['raj', 'meena', 'veena', 'jina', 'max']\n"
     ]
    }
   ],
   "source": [
    "print(students)"
   ]
  },
  {
   "cell_type": "code",
   "execution_count": 11,
   "id": "61458745",
   "metadata": {},
   "outputs": [
    {
     "name": "stdout",
     "output_type": "stream",
     "text": [
      "jina\n"
     ]
    }
   ],
   "source": [
    "print(students[3])"
   ]
  },
  {
   "cell_type": "code",
   "execution_count": null,
   "id": "9fb7fc8b",
   "metadata": {},
   "outputs": [],
   "source": [
    "#insert is used to add anything in the perticualr/specific position like([no.]) in list"
   ]
  },
  {
   "cell_type": "code",
   "execution_count": 14,
   "id": "337847d1",
   "metadata": {},
   "outputs": [],
   "source": [
    "students.insert(1,'jina')"
   ]
  },
  {
   "cell_type": "code",
   "execution_count": 15,
   "id": "cfb4191a",
   "metadata": {},
   "outputs": [
    {
     "name": "stdout",
     "output_type": "stream",
     "text": [
      "jina\n"
     ]
    }
   ],
   "source": [
    "print(students[1])"
   ]
  },
  {
   "cell_type": "code",
   "execution_count": 16,
   "id": "ec67d610",
   "metadata": {},
   "outputs": [
    {
     "name": "stdout",
     "output_type": "stream",
     "text": [
      "['raj', 'jina', 'meena', 'veena', 'jina', 'max']\n"
     ]
    }
   ],
   "source": [
    "print(students)"
   ]
  },
  {
   "cell_type": "code",
   "execution_count": null,
   "id": "c0ec4ec6",
   "metadata": {},
   "outputs": [],
   "source": [
    "# above the order is changed becase we insert meena place to jina no.1"
   ]
  },
  {
   "cell_type": "code",
   "execution_count": 31,
   "id": "3e44572e",
   "metadata": {},
   "outputs": [],
   "source": [
    "students.insert(3,'max1')"
   ]
  },
  {
   "cell_type": "code",
   "execution_count": 29,
   "id": "7c4e1341",
   "metadata": {},
   "outputs": [
    {
     "name": "stdout",
     "output_type": "stream",
     "text": [
      "max1\n"
     ]
    }
   ],
   "source": [
    "print(students[3])"
   ]
  },
  {
   "cell_type": "code",
   "execution_count": 30,
   "id": "5b258c78",
   "metadata": {},
   "outputs": [
    {
     "name": "stdout",
     "output_type": "stream",
     "text": [
      "['raj', 'jina', 'meena', 'max1', 'max', <built-in function max>, 'veena', 'jina', 'max']\n"
     ]
    }
   ],
   "source": [
    "print(students)"
   ]
  },
  {
   "cell_type": "code",
   "execution_count": 32,
   "id": "75293f90",
   "metadata": {},
   "outputs": [
    {
     "name": "stdout",
     "output_type": "stream",
     "text": [
      "['raj', 'jina', 'meena', 'max1', 'max1', 'max', <built-in function max>, 'veena', 'jina', 'max']\n"
     ]
    }
   ],
   "source": [
    "print(students)"
   ]
  },
  {
   "cell_type": "code",
   "execution_count": null,
   "id": "5d1d6d9f",
   "metadata": {},
   "outputs": [],
   "source": [
    "# modifing the list"
   ]
  },
  {
   "cell_type": "code",
   "execution_count": 34,
   "id": "4780c2e4",
   "metadata": {},
   "outputs": [],
   "source": [
    "students[3]=\"veena\""
   ]
  },
  {
   "cell_type": "code",
   "execution_count": 35,
   "id": "88fe5ddf",
   "metadata": {},
   "outputs": [
    {
     "name": "stdout",
     "output_type": "stream",
     "text": [
      "['raj', 'jina', 'meena', 'veena', 'max1', 'max', <built-in function max>, 'veena', 'jina', 'max']\n"
     ]
    }
   ],
   "source": [
    "print(students)"
   ]
  },
  {
   "cell_type": "code",
   "execution_count": null,
   "id": "692576f0",
   "metadata": {},
   "outputs": [],
   "source": [
    "# delete the list"
   ]
  },
  {
   "cell_type": "code",
   "execution_count": 37,
   "id": "dbd9ebcb",
   "metadata": {},
   "outputs": [],
   "source": [
    "del students[4]"
   ]
  },
  {
   "cell_type": "code",
   "execution_count": 38,
   "id": "eb2ba9e6",
   "metadata": {},
   "outputs": [
    {
     "name": "stdout",
     "output_type": "stream",
     "text": [
      "['raj', 'jina', 'meena', 'veena', 'max', <built-in function max>, 'veena', 'jina', 'max']\n"
     ]
    }
   ],
   "source": [
    "print(students)"
   ]
  },
  {
   "cell_type": "code",
   "execution_count": 43,
   "id": "a8a7c4be",
   "metadata": {},
   "outputs": [],
   "source": [
    "del students[5]"
   ]
  },
  {
   "cell_type": "code",
   "execution_count": 44,
   "id": "968c27e3",
   "metadata": {},
   "outputs": [
    {
     "name": "stdout",
     "output_type": "stream",
     "text": [
      "['raj', 'jina', 'meena', 'veena', 'max', 'veena', 'jina', 'max']\n"
     ]
    }
   ],
   "source": [
    "print(students)"
   ]
  },
  {
   "cell_type": "code",
   "execution_count": 45,
   "id": "7314f8ba",
   "metadata": {},
   "outputs": [],
   "source": [
    "students[5]=\"ram\" #modify list"
   ]
  },
  {
   "cell_type": "code",
   "execution_count": 46,
   "id": "e1da136d",
   "metadata": {},
   "outputs": [
    {
     "name": "stdout",
     "output_type": "stream",
     "text": [
      "['raj', 'jina', 'meena', 'veena', 'max', 'ram', 'jina', 'max']\n"
     ]
    }
   ],
   "source": [
    "print(students)"
   ]
  },
  {
   "cell_type": "code",
   "execution_count": null,
   "id": "c6a779d8",
   "metadata": {},
   "outputs": [],
   "source": []
  }
 ],
 "metadata": {
  "kernelspec": {
   "display_name": "Python 3",
   "language": "python",
   "name": "python3"
  },
  "language_info": {
   "codemirror_mode": {
    "name": "ipython",
    "version": 3
   },
   "file_extension": ".py",
   "mimetype": "text/x-python",
   "name": "python",
   "nbconvert_exporter": "python",
   "pygments_lexer": "ipython3",
   "version": "3.8.8"
  }
 },
 "nbformat": 4,
 "nbformat_minor": 5
}
